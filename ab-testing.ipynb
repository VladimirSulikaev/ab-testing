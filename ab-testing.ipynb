{
 "cells": [
  {
   "cell_type": "code",
   "execution_count": 5,
   "id": "f77e936a-d0c3-4db3-bed3-1e46404ae0f1",
   "metadata": {},
   "outputs": [],
   "source": [
    "import pandas as pd\n",
    "import numpy as np\n",
    "import seaborn as sns\n",
    "import pandahouse as ph\n",
    "from scipy import stats\n",
    "import swifter"
   ]
  },
  {
   "cell_type": "code",
   "execution_count": 6,
   "id": "9eee7549-23ae-4f16-adc0-f60052359ecc",
   "metadata": {},
   "outputs": [],
   "source": [
    "#функция для хэширования, необязательно, сделал через clickhouse\n",
    "\n",
    "def ab_split(id, salt='exp_mess_1', n_groups=5):\n",
    "    test_id = str(id) + '-' + str(salt)\n",
    "    test_id_digest = hashlib.mb5(test_id.encode('ancii')).hexdigest()\n",
    "    test_id_final_int = int(test_id_digest, 16)\n",
    "    return test_id_final_int % n_groups"
   ]
  },
  {
   "cell_type": "code",
   "execution_count": 7,
   "id": "6250f687-0517-4031-9b26-70324c16279f",
   "metadata": {},
   "outputs": [],
   "source": [
    "#коннектимся к dwh, данные изменены\n",
    "\n",
    "connection = {\n",
    "    'host': 'https://clickhouse.internal.company.com',\n",
    "    'user': 'analyst_user',\n",
    "    'password': 'secure_password_123',\n",
    "    'database': 'analytics_db'\n",
    "}"
   ]
  },
  {
   "cell_type": "code",
   "execution_count": 8,
   "id": "807b7cbb-e436-4b20-8e61-f92707b6b1ee",
   "metadata": {},
   "outputs": [
    {
     "data": {
      "text/html": [
       "<div>\n",
       "<style scoped>\n",
       "    .dataframe tbody tr th:only-of-type {\n",
       "        vertical-align: middle;\n",
       "    }\n",
       "\n",
       "    .dataframe tbody tr th {\n",
       "        vertical-align: top;\n",
       "    }\n",
       "\n",
       "    .dataframe thead th {\n",
       "        text-align: right;\n",
       "    }\n",
       "</style>\n",
       "<table border=\"1\" class=\"dataframe\">\n",
       "  <thead>\n",
       "    <tr style=\"text-align: right;\">\n",
       "      <th></th>\n",
       "      <th>group</th>\n",
       "      <th>uniqExact(user_id)</th>\n",
       "    </tr>\n",
       "  </thead>\n",
       "  <tbody>\n",
       "    <tr>\n",
       "      <th>0</th>\n",
       "      <td>0</td>\n",
       "      <td>8452</td>\n",
       "    </tr>\n",
       "    <tr>\n",
       "      <th>1</th>\n",
       "      <td>1</td>\n",
       "      <td>8326</td>\n",
       "    </tr>\n",
       "    <tr>\n",
       "      <th>2</th>\n",
       "      <td>2</td>\n",
       "      <td>8395</td>\n",
       "    </tr>\n",
       "    <tr>\n",
       "      <th>3</th>\n",
       "      <td>3</td>\n",
       "      <td>8492</td>\n",
       "    </tr>\n",
       "    <tr>\n",
       "      <th>4</th>\n",
       "      <td>4</td>\n",
       "      <td>8332</td>\n",
       "    </tr>\n",
       "  </tbody>\n",
       "</table>\n",
       "</div>"
      ],
      "text/plain": [
       "   group  uniqExact(user_id)\n",
       "0      0                8452\n",
       "1      1                8326\n",
       "2      2                8395\n",
       "3      3                8492\n",
       "4      4                8332"
      ]
     },
     "execution_count": 8,
     "metadata": {},
     "output_type": "execute_result"
    }
   ],
   "source": [
    "# Хэшируем с солью в кликхаус\n",
    "\n",
    "q = \"\"\"\n",
    "SELECT xxHash64(toString(user_id)||'my_salt')%5 as group\n",
    "     , uniqExact(user_id)\n",
    "FROM {db}.feed_actions\n",
    "WHERE toDate(time) between '2025-02-14' and '2025-02-20'\n",
    "group by group\n",
    "\"\"\"\n",
    "\n",
    "df = ph.read_clickhouse(q, connection=connection)\n",
    "df.head()"
   ]
  },
  {
   "cell_type": "code",
   "execution_count": 9,
   "id": "05b38d46-e336-409a-bf94-c224f23829ad",
   "metadata": {},
   "outputs": [
    {
     "data": {
      "text/html": [
       "<div>\n",
       "<style scoped>\n",
       "    .dataframe tbody tr th:only-of-type {\n",
       "        vertical-align: middle;\n",
       "    }\n",
       "\n",
       "    .dataframe tbody tr th {\n",
       "        vertical-align: top;\n",
       "    }\n",
       "\n",
       "    .dataframe thead th {\n",
       "        text-align: right;\n",
       "    }\n",
       "</style>\n",
       "<table border=\"1\" class=\"dataframe\">\n",
       "  <thead>\n",
       "    <tr style=\"text-align: right;\">\n",
       "      <th></th>\n",
       "      <th>user_id</th>\n",
       "      <th>likes</th>\n",
       "      <th>views</th>\n",
       "      <th>ctr</th>\n",
       "    </tr>\n",
       "    <tr>\n",
       "      <th>exp_group</th>\n",
       "      <th></th>\n",
       "      <th></th>\n",
       "      <th></th>\n",
       "      <th></th>\n",
       "    </tr>\n",
       "  </thead>\n",
       "  <tbody>\n",
       "    <tr>\n",
       "      <th>2</th>\n",
       "      <td>8362</td>\n",
       "      <td>8362</td>\n",
       "      <td>8362</td>\n",
       "      <td>8362</td>\n",
       "    </tr>\n",
       "    <tr>\n",
       "      <th>3</th>\n",
       "      <td>8425</td>\n",
       "      <td>8425</td>\n",
       "      <td>8425</td>\n",
       "      <td>8425</td>\n",
       "    </tr>\n",
       "  </tbody>\n",
       "</table>\n",
       "</div>"
      ],
      "text/plain": [
       "           user_id  likes  views   ctr\n",
       "exp_group                             \n",
       "2             8362   8362   8362  8362\n",
       "3             8425   8425   8425  8425"
      ]
     },
     "execution_count": 9,
     "metadata": {},
     "output_type": "execute_result"
    }
   ],
   "source": [
    "q = \"\"\"\n",
    "SELECT exp_group\n",
    "     , user_id\n",
    "     , sum(action = 'like') as likes\n",
    "     , sum(action = 'view') as views\n",
    "     , likes/views as ctr\n",
    "FROM {db}.feed_actions\n",
    "WHERE toDate(time) between '2025-02-14' and '2025-02-20'\n",
    "    AND exp_group in (2,3)\n",
    "GROUP BY exp_group, user_id\n",
    "\"\"\"\n",
    "\n",
    "df = ph.read_clickhouse(q, connection=connection)\n",
    "\n",
    "df.groupby('exp_group').count()"
   ]
  },
  {
   "cell_type": "code",
   "execution_count": 10,
   "id": "3a2528a2-3916-4d2d-af78-0a5addb9e778",
   "metadata": {},
   "outputs": [
    {
     "name": "stdout",
     "output_type": "stream",
     "text": [
      "Распределения одинаковы, P-value = 0.6493802563197136\n"
     ]
    }
   ],
   "source": [
    "sample_size = 500\n",
    "\n",
    "sample_users_2 = np.random.choice(df[df.exp_group == 2].user_id.unique(), size=sample_size,\n",
    "                                  replace=False)\n",
    "\n",
    "sample_users_3 = np.random.choice(df[df.exp_group == 3].user_id.unique(), size=sample_size,\n",
    "                                  replace=False)\n",
    "\n",
    "df_sample_2 = df[df.user_id.isin(sample_users_2)]\n",
    "df_sample_3 = df[df.user_id.isin(sample_users_3)]\n",
    "\n",
    "ab_1 = stats.ttest_ind(df_sample_2.ctr, df_sample_3.ctr, equal_var=False)\n",
    "\n",
    "if ab_1[1] >= 0.05: print('Распределения одинаковы, P-value =', ab_1[1])\n",
    "else: print('Различия статистически значимы, P-value =', ab_1[1])"
   ]
  },
  {
   "cell_type": "code",
   "execution_count": 11,
   "id": "88b4d5b3-de50-4ee4-a1aa-9c20c08d9e0c",
   "metadata": {},
   "outputs": [
    {
     "name": "stdout",
     "output_type": "stream",
     "text": [
      "В 49.07 % случаев A > B. Должно получиться около 50%\n"
     ]
    }
   ],
   "source": [
    "ab_1_test = 0\n",
    "\n",
    "for i in range(10000):\n",
    "    ab_1_test += df_sample_2.ctr.sample().values[0] > df_sample_3.ctr.sample().values[0]\n",
    "    \n",
    "print('В', ab_1_test / 100, '% случаев A > B. Должно получиться около 50%')"
   ]
  },
  {
   "cell_type": "code",
   "execution_count": 17,
   "id": "086cb4b2-9ddb-4036-8f8e-210a84d6b98f",
   "metadata": {},
   "outputs": [],
   "source": [
    "data_2 = []\n",
    "data_3 = []\n",
    "\n",
    "for i in range(10000):\n",
    "    data_2.append(df_sample_2.ctr.sample().values[0])\n",
    "    data_3.append(df_sample_3.ctr.sample().values[0])\n",
    "    \n",
    "data_2 = pd.DataFrame(data_2).rename(columns={0: 'ctr'})\n",
    "data_3 = pd.DataFrame(data_3).rename(columns={0: 'ctr'})"
   ]
  },
  {
   "cell_type": "code",
   "execution_count": 18,
   "id": "b26df4ac-0f85-428f-951e-0a5dc013f90b",
   "metadata": {},
   "outputs": [
    {
     "data": {
      "text/plain": [
       "<AxesSubplot:xlabel='ctr', ylabel='Count'>"
      ]
     },
     "execution_count": 18,
     "metadata": {},
     "output_type": "execute_result"
    },
    {
     "data": {
      "image/png": "[encoded data removed]",
      "text/plain": [
       "<Figure size 432x288 with 1 Axes>"
      ]
     },
     "metadata": {
      "needs_background": "light"
     },
     "output_type": "display_data"
    }
   ],
   "source": [
    "groups = sns.histplot(data = data_2,\n",
    "x='ctr',\n",
    "color = ['r'],\n",
    "alpha=0.5,\n",
    "kde=False)\n",
    "\n",
    "sns.histplot(data = data_3,\n",
    "x='ctr',\n",
    "color = ['b'],\n",
    "alpha=0.5,\n",
    "kde=False)"
   ]
  },
  {
   "cell_type": "code",
   "execution_count": 19,
   "id": "8fba9675-4d4a-4027-83f9-8374146fcb1c",
   "metadata": {},
   "outputs": [],
   "source": [
    "mean_share = ((data_2 < 0.05).mean() + (data_3 < 0.05).mean()) / 2"
   ]
  },
  {
   "cell_type": "code",
   "execution_count": 20,
   "id": "2451b1d2-658c-463e-9c36-17a3b195fa80",
   "metadata": {},
   "outputs": [
    {
     "data": {
      "text/plain": [
       "ctr    0.012\n",
       "dtype: float64"
      ]
     },
     "execution_count": 20,
     "metadata": {},
     "output_type": "execute_result"
    }
   ],
   "source": [
    "mean_share"
   ]
  },
  {
   "cell_type": "markdown",
   "id": "d3262585-0db0-4819-8e6f-1eaca25ab6c4",
   "metadata": {},
   "source": [
    "Распределение получившихся p-value является примерно \n",
    "равномерным\n",
    ". Доля p-value ниже порога значимости составляет около \n",
    "0.0136\n",
    ". Это \n",
    "примерно столько, сколько\n",
    " мы ожидаем. Значит, система сплитования \n",
    "работает корректно\n",
    "."
   ]
  },
  {
   "cell_type": "markdown",
   "id": "a2918a25-158b-4a07-87eb-8b42ebf16598",
   "metadata": {},
   "source": [
    "## Анализ результатов эксперимента"
   ]
  },
  {
   "cell_type": "code",
   "execution_count": 14,
   "id": "4b206cd4-d9b3-4c29-a13a-ad2f74313804",
   "metadata": {},
   "outputs": [
    {
     "data": {
      "text/plain": [
       "<AxesSubplot:xlabel='ctr', ylabel='Count'>"
      ]
     },
     "execution_count": 14,
     "metadata": {},
     "output_type": "execute_result"
    },
    {
     "data": {
      "image/png": "[encoded data removed]",
      "text/plain": [
       "<Figure size 432x288 with 1 Axes>"
      ]
     },
     "metadata": {
      "needs_background": "light"
     },
     "output_type": "display_data"
    }
   ],
   "source": [
    "q = \"\"\"\n",
    "SELECT exp_group\n",
    "     , user_id\n",
    "     , sum(action = 'like') as likes\n",
    "     , sum(action = 'view') as views\n",
    "     , likes/views as ctr\n",
    "FROM {db}.feed_actions\n",
    "WHERE toDate(time) between '2025-02-21' and '2025-02-27'\n",
    "    AND exp_group in (1,2)\n",
    "GROUP BY exp_group, user_id\n",
    "\"\"\"\n",
    "\n",
    "df2 = ph.read_clickhouse(q, connection=connection)\n",
    "\n",
    "sns.histplot(data = df2,\n",
    "x='ctr',\n",
    "hue = 'exp_group',\n",
    "palette = ['r', 'b'],\n",
    "alpha=0.5,\n",
    "kde=False)"
   ]
  },
  {
   "cell_type": "markdown",
   "id": "55af2679-cd9a-43c0-9a49-af7df2e8fb41",
   "metadata": {},
   "source": [
    "### t-test может быть неточным из-за формы распределения, распределение бимодально \"с двумя горбами\", поэтому результат сложно интерпретировать"
   ]
  },
  {
   "cell_type": "code",
   "execution_count": 15,
   "id": "227d52f9-f11c-4905-9480-1342316e2a80",
   "metadata": {},
   "outputs": [
    {
     "name": "stdout",
     "output_type": "stream",
     "text": [
      "Распределения одинаковы, P-value = 0.6843098628062774\n"
     ]
    }
   ],
   "source": [
    "ab_2 = stats.ttest_ind(df2[df2.exp_group == 1].ctr, df2[df2.exp_group == 2].ctr)\n",
    "\n",
    "if ab_2[1] >= 0.05: print('Распределения одинаковы, P-value =', ab_2[1])\n",
    "else: print('Различия статистически значимы, P-value =', ab_2[1])"
   ]
  },
  {
   "cell_type": "markdown",
   "id": "8707cfaf-bd04-420b-9964-f2b0728cdaf8",
   "metadata": {},
   "source": [
    "### Тест Манна-Уитни показывает статистическую значимость, выборки стохастически неравны, даже на глаз явная ассиметрия"
   ]
  },
  {
   "cell_type": "code",
   "execution_count": 16,
   "id": "04922058-8c68-41e8-9132-8ae6c5714c04",
   "metadata": {},
   "outputs": [
    {
     "name": "stdout",
     "output_type": "stream",
     "text": [
      "Различия статистически значимы, P-value = 4.632205841806026e-45\n"
     ]
    }
   ],
   "source": [
    "ab_2_mw = stats.mannwhitneyu(df2[df2.exp_group == 1].ctr, df2[df2.exp_group == 2].ctr)\n",
    "\n",
    "if ab_2_mw[1] >= 0.05: print('Распределения одинаковы, P-value =', ab_2_mw[1])\n",
    "else: print('Различия статистически значимы, P-value =', ab_2_mw[1])"
   ]
  },
  {
   "cell_type": "markdown",
   "id": "2ddf353f-816a-42f6-95ce-f673f56951e9",
   "metadata": {},
   "source": [
    "### Сглаженный CTR делает выборки схожими на вид"
   ]
  },
  {
   "cell_type": "code",
   "execution_count": 17,
   "id": "fce47f54-a6a7-4075-8389-ecd7f9db8c7f",
   "metadata": {},
   "outputs": [
    {
     "data": {
      "text/plain": [
       "<AxesSubplot:ylabel='Count'>"
      ]
     },
     "execution_count": 17,
     "metadata": {},
     "output_type": "execute_result"
    },
    {
     "data": {
      "image/png": "[encoded data removed]",
      "text/plain": [
       "<Figure size 432x288 with 1 Axes>"
      ]
     },
     "metadata": {
      "needs_background": "light"
     },
     "output_type": "display_data"
    }
   ],
   "source": [
    "def get_smothed_ctr(user_likes, user_views, global_ctr, alpha):\n",
    "    smothed_ctr = (user_likes + alpha * global_ctr) / (user_views + alpha)\n",
    "    return smothed_ctr\n",
    "\n",
    "global_ctr_1 = df2[df2.exp_group == 1].likes.sum()/df2[df2.exp_group == 1].views.sum()\n",
    "global_ctr_2 = df2[df2.exp_group == 2].likes.sum()/df2[df2.exp_group == 2].views.sum()\n",
    "\n",
    "group1 = df2[df2.exp_group == 1].ctr.copy()\n",
    "\n",
    "group2 = df2[df2.exp_group == 2].ctr.copy()\n",
    "\n",
    "group1['smothed_ctr'] = df2.apply(\n",
    "lambda x: get_smothed_ctr(x['likes'], x['views'], global_ctr_1, 5), axis=1)\n",
    "sns.histplot(group1.smothed_ctr, color = 'r', alpha = 0.5,\n",
    "kde = False)\n",
    "\n",
    "group2['smothed_ctr'] = df2.apply(\n",
    "lambda x: get_smothed_ctr(x['likes'], x['views'], global_ctr_2, 5), axis=1)\n",
    "sns.histplot(group2.smothed_ctr, color = 'b', alpha = 0.5,\n",
    "kde = False)"
   ]
  },
  {
   "cell_type": "markdown",
   "id": "4724eec7-9d17-4977-9481-d51e495c3673",
   "metadata": {},
   "source": [
    "### Пуасоновский бутстреп показывает явную статистическую разницу в пользу контроля"
   ]
  },
  {
   "cell_type": "code",
   "execution_count": 18,
   "id": "6206a8bb-50b4-4baf-9cb7-94402e9a0d66",
   "metadata": {},
   "outputs": [
    {
     "data": {
      "text/plain": [
       "<AxesSubplot:ylabel='Count'>"
      ]
     },
     "execution_count": 18,
     "metadata": {},
     "output_type": "execute_result"
    },
    {
     "data": {
      "image/png": "[encoded data removed]",
      "text/plain": [
       "<Figure size 432x288 with 1 Axes>"
      ]
     },
     "metadata": {
      "needs_background": "light"
     },
     "output_type": "display_data"
    }
   ],
   "source": [
    "def bootstrap(likes1, views1, likes2, views2, n_bootstrap=2000):\n",
    "    \n",
    "    poisson_bootstraps1 = stats.poisson(1).rvs((n_bootstrap, len(likes1))).astype(np.int64)\n",
    "    poisson_bootstraps2 = stats.poisson(1).rvs((n_bootstrap, len(likes2))).astype(np.int64)\n",
    "    \n",
    "    globalCTR1 = (poisson_bootstraps1*likes1).sum(axis=1)/(poisson_bootstraps1*views1).sum(axis=1)\n",
    "    globalCTR2 = (poisson_bootstraps2*likes2).sum(axis=1)/(poisson_bootstraps2*views2).sum(axis=1)\n",
    "    return globalCTR1, globalCTR2\n",
    "\n",
    "likes1 = df2[df2.exp_group == 1].likes.to_numpy()\n",
    "views1 = df2[df2.exp_group == 1].views.to_numpy()\n",
    "likes2 = df2[df2.exp_group == 2].likes.to_numpy()\n",
    "views2 = df2[df2.exp_group == 2].views.to_numpy()\n",
    "\n",
    "ctr1, ctr2 = bootstrap(likes1, views1, likes2, views2)\n",
    "sns.histplot(ctr1, color = 'r')\n",
    "sns.histplot(ctr2, color = 'b')"
   ]
  },
  {
   "cell_type": "markdown",
   "id": "dbec3407-2781-47b9-908e-3085f388d7d2",
   "metadata": {},
   "source": [
    "### Бакетное преобразование"
   ]
  },
  {
   "cell_type": "code",
   "execution_count": 19,
   "id": "1c35921d-d7e3-489d-9190-3e2e9793a0b7",
   "metadata": {},
   "outputs": [
    {
     "data": {
      "text/plain": [
       "<AxesSubplot:xlabel='bucket_ctr', ylabel='Count'>"
      ]
     },
     "execution_count": 19,
     "metadata": {},
     "output_type": "execute_result"
    },
    {
     "data": {
      "image/png": "[encoded data removed]",
      "text/plain": [
       "<Figure size 432x288 with 1 Axes>"
      ]
     },
     "metadata": {
      "needs_background": "light"
     },
     "output_type": "display_data"
    }
   ],
   "source": [
    "q = \"\"\"\n",
    "SELECT exp_group\n",
    "     , bucket\n",
    "     , sum(likes)/sum(views) as bucket_ctr\n",
    "     , quantileExact(0.9)(ctr) as ctr9\n",
    "FROM (SELECT exp_group\n",
    "           , xxHash64(user_id)%50 as bucket\n",
    "           , user_id\n",
    "           , sum(action = 'like') as likes\n",
    "           , sum(action = 'view') as views\n",
    "           , likes/views as ctr\n",
    "      FROM {db}.feed_actions\n",
    "      WHERE toDate(time) between '2025-02-21' and '2025-02-27'\n",
    "      and exp_group in (1,2)\n",
    "      GROUP BY exp_group, bucket, user_id)\n",
    "GROUP BY exp_group, bucket\n",
    "\"\"\"\n",
    "df3 = ph.read_clickhouse(q, connection=connection)\n",
    "\n",
    "sns.histplot(data = df3,\n",
    "x='bucket_ctr',\n",
    "hue = 'exp_group',\n",
    "palette = ['r', 'b'],\n",
    "alpha=0.5,\n",
    "kde=False)"
   ]
  },
  {
   "cell_type": "code",
   "execution_count": 20,
   "id": "e12ed0b5-202d-42cb-ba37-bc146a8cd13d",
   "metadata": {},
   "outputs": [
    {
     "name": "stdout",
     "output_type": "stream",
     "text": [
      "Различия статистически значимы, P-value = 1.8366051119101797e-07\n"
     ]
    }
   ],
   "source": [
    "tt_bucket = stats.ttest_ind(df3[df3.exp_group == 1].bucket_ctr,\n",
    "                            df3[df3.exp_group == 2].bucket_ctr,\n",
    "                            alternative = 'two-sided')\n",
    "\n",
    "if tt_bucket[1] >= 0.05: print('Распределения одинаковы, P-value =', tt_bucket[1])\n",
    "else: print('Различия статистически значимы, P-value =', tt_bucket[1])"
   ]
  },
  {
   "cell_type": "code",
   "execution_count": 21,
   "id": "3cf5d010-ba98-442d-b410-8ba1743c6aa6",
   "metadata": {},
   "outputs": [
    {
     "name": "stdout",
     "output_type": "stream",
     "text": [
      "Различия статистически значимы, P-value = 2.6576427804010095e-07\n"
     ]
    }
   ],
   "source": [
    "mw_bucket = stats.mannwhitneyu(df3[df3.exp_group == 1].bucket_ctr,\n",
    "                               df3[df3.exp_group == 2].bucket_ctr,\n",
    "                               alternative = 'two-sided')\n",
    "\n",
    "if mw_bucket[1] >= 0.05: print('Распределения одинаковы, P-value =', mw_bucket[1])\n",
    "else: print('Различия статистически значимы, P-value =', mw_bucket[1])"
   ]
  },
  {
   "cell_type": "markdown",
   "id": "032f4916-d86b-4385-9e25-74da879afceb",
   "metadata": {},
   "source": [
    "### Новую систему рекомедаций вводить не стоит, она увеличивает лишь CTR конкретных групп, при этом уменьшает количество лайков большинства. Применив другие способы выявления статистической значимости мы ещё и убедились что контрольная группа показывает себя лучше."
   ]
  },
  {
   "cell_type": "markdown",
   "id": "d39e8b27-5ff6-4f4b-b773-9a8b54368c4a",
   "metadata": {},
   "source": [
    "## Пробуем увеличить чувствительность теста через линеаризацию"
   ]
  },
  {
   "cell_type": "code",
   "execution_count": 113,
   "id": "7a93d9a3-0480-464a-a2a9-48355edc0486",
   "metadata": {},
   "outputs": [],
   "source": [
    "q = \"\"\"\n",
    "SELECT exp_group\n",
    "     , user_id\n",
    "     , sum(action = 'like') as likes\n",
    "     , sum(action = 'view') as views\n",
    "     , likes/views as ctr\n",
    "FROM {db}.feed_actions\n",
    "WHERE toDate(time) between '2025-02-21' and '2025-02-27'\n",
    "    AND exp_group in (0,1,2,3)\n",
    "GROUP BY exp_group, user_id\n",
    "\"\"\"\n",
    "\n",
    "df4 = ph.read_clickhouse(q, connection=connection)"
   ]
  },
  {
   "cell_type": "code",
   "execution_count": 117,
   "id": "7e10cbec-cabf-4951-8ce0-f41f0b7ea3e7",
   "metadata": {},
   "outputs": [
    {
     "name": "stdout",
     "output_type": "stream",
     "text": [
      "Различия статистически значимы, пользовательское P-value группы 0 и 3 = 6.360547724658604e-44\n",
      "Распределения одинаковы, пользовательское P-value группы 1 и 2 = 0.6843098628062774\n",
      "\n",
      "Различия статистически значимы, линеаризованное P-value группы 0 и 3 = 1.4740034890835593e-58\n",
      "Различия статистически значимы, линеаризованное P-value группы 1 и 2 = 2.5335696161435772e-09\n"
     ]
    }
   ],
   "source": [
    "CTR_control_0 = df4[df4['exp_group'] == 0]['likes'].sum() / df4[df4['exp_group'] == 0]['views'].sum()\n",
    "CTR_control_1 = df4[df4['exp_group'] == 1]['likes'].sum() / df4[df4['exp_group'] == 1]['views'].sum()\n",
    "\n",
    "### Линеаризованные лайки\n",
    "\n",
    "linearized_likes_0 = df4[df4['exp_group'] == 0]['likes'] - CTR_control_0 * df4[df4['exp_group'] == 0]['views']\n",
    "linearized_likes_1 = df4[df4['exp_group'] == 1]['likes'] - CTR_control_1 * df4[df4['exp_group'] == 1]['views']\n",
    "linearized_likes_3 = df4[df4['exp_group'] == 3]['likes'] - CTR_control_0 * df4[df4['exp_group'] == 3]['views']\n",
    "linearized_likes_2 = df4[df4['exp_group'] == 2]['likes'] - CTR_control_1 * df4[df4['exp_group'] == 2]['views']\n",
    "\n",
    "### Т-Тесты\n",
    "\n",
    "just_ctr_0n3 = stats.ttest_ind(df4[df4['exp_group'] == 0].ctr, df4[df4['exp_group'] == 3].ctr)\n",
    "just_ctr_1n2 = stats.ttest_ind(df4[df4['exp_group'] == 1].ctr, df4[df4['exp_group'] == 2].ctr)\n",
    "\n",
    "if just_ctr_0n3[1] >= 0.05: print('Распределения одинаковы, пользовательское P-value группы 0 и 3 =', just_ctr_0n3[1])\n",
    "else: print('Различия статистически значимы, пользовательское P-value группы 0 и 3 =', just_ctr_0n3[1])\n",
    "\n",
    "if just_ctr_1n2[1] >= 0.05: print('Распределения одинаковы, пользовательское P-value группы 1 и 2 =', just_ctr_1n2[1])\n",
    "else: print('Различия статистически значимы, пользовательское P-value группы 1 и 2 =', just_ctr_1n2[1])\n",
    "\n",
    "print() # отступ\n",
    "\n",
    "linez_0n3 = stats.ttest_ind(linearized_likes_0, linearized_likes_3)\n",
    "\n",
    "if linez_0n3[1] >= 0.05: print('Распределения одинаковы, линеаризованное P-value группы 0 и 3 =', linez_0n3[1])\n",
    "else: print('Различия статистически значимы, линеаризованное P-value группы 0 и 3 =', linez_0n3[1])\n",
    "\n",
    "linez_1n2 = stats.ttest_ind(linearized_likes_1, linearized_likes_2)\n",
    "\n",
    "if linez_1n2[1] >= 0.05: print('Распределения одинаковы, линеаризованное P-value группы 1 и 2 =', linez_1n2[1])\n",
    "else: print('Различия статистически значимы, линеаризованное P-value группы 1 и 2 =', linez_1n2[1])"
   ]
  },
  {
   "cell_type": "markdown",
   "id": "b1754080-a3a4-48b6-a00e-e9779928ad7e",
   "metadata": {},
   "source": [
    "### Линеаризация увеличила чувствительность нашего t-теста. Считается она быстро, и при этом фактически проверяет ту же гипотезу, что и пуассоновский бутстрап. Резюмируя, этот метод отлично подходит для анализа метрик-отношений\n"
   ]
  }
 ],
 "metadata": {
  "kernelspec": {
   "display_name": "Python 3 (ipykernel)",
   "language": "python",
   "name": "python3"
  },
  "language_info": {
   "codemirror_mode": {
    "name": "ipython",
    "version": 3
   },
   "file_extension": ".py",
   "mimetype": "text/x-python",
   "name": "python",
   "nbconvert_exporter": "python",
   "pygments_lexer": "ipython3",
   "version": "3.10.9"
  }
 },
 "nbformat": 4,
 "nbformat_minor": 5
}
